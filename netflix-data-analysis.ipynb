{
 "cells": [
  {
   "cell_type": "markdown",
   "metadata": {},
   "source": [
    "This assignment includes the following tasks:\n",
    "\n",
    "- Data Preparation:\n",
    "\n",
    "Loading the data\n",
    "\n",
    "- Data Cleaning:\n",
    "\n",
    "Address missing values in the dataset.\n",
    "\n",
    "- Data Exploration:\n",
    "\n",
    "Perform various data exploration tasks, including describing the data and conducting statistical analysis.\n",
    "\n",
    "- Data Visualization:\n",
    "\n",
    "Create visualizations to represent the following:\n",
    "Most watched genres.\n",
    "Ratings distribution.\n"
   ]
  },
  {
   "cell_type": "markdown",
   "metadata": {},
   "source": [
    "### 1. Load the Data"
   ]
  },
  {
   "cell_type": "code",
   "execution_count": 21,
   "metadata": {},
   "outputs": [],
   "source": [
    "# Import required libraries\n",
    "import pandas as pd # For data manipulation\n",
    "import matplotlib.pyplot as plt # For data visualization\n",
    "import seaborn as sns # For data visualization"
   ]
  },
  {
   "cell_type": "code",
   "execution_count": 2,
   "metadata": {},
   "outputs": [
    {
     "data": {
      "text/html": [
       "<div>\n",
       "<style scoped>\n",
       "    .dataframe tbody tr th:only-of-type {\n",
       "        vertical-align: middle;\n",
       "    }\n",
       "\n",
       "    .dataframe tbody tr th {\n",
       "        vertical-align: top;\n",
       "    }\n",
       "\n",
       "    .dataframe thead th {\n",
       "        text-align: right;\n",
       "    }\n",
       "</style>\n",
       "<table border=\"1\" class=\"dataframe\">\n",
       "  <thead>\n",
       "    <tr style=\"text-align: right;\">\n",
       "      <th></th>\n",
       "      <th>show_id</th>\n",
       "      <th>type</th>\n",
       "      <th>title</th>\n",
       "      <th>director</th>\n",
       "      <th>cast</th>\n",
       "      <th>country</th>\n",
       "      <th>date_added</th>\n",
       "      <th>release_year</th>\n",
       "      <th>rating</th>\n",
       "      <th>duration</th>\n",
       "      <th>listed_in</th>\n",
       "      <th>description</th>\n",
       "    </tr>\n",
       "  </thead>\n",
       "  <tbody>\n",
       "    <tr>\n",
       "      <th>0</th>\n",
       "      <td>81145628</td>\n",
       "      <td>Movie</td>\n",
       "      <td>Norm of the North: King Sized Adventure</td>\n",
       "      <td>Richard Finn, Tim Maltby</td>\n",
       "      <td>Alan Marriott, Andrew Toth, Brian Dobson, Cole...</td>\n",
       "      <td>United States, India, South Korea, China</td>\n",
       "      <td>September 9, 2019</td>\n",
       "      <td>2019</td>\n",
       "      <td>TV-PG</td>\n",
       "      <td>90 min</td>\n",
       "      <td>Children &amp; Family Movies, Comedies</td>\n",
       "      <td>Before planning an awesome wedding for his gra...</td>\n",
       "    </tr>\n",
       "    <tr>\n",
       "      <th>1</th>\n",
       "      <td>80117401</td>\n",
       "      <td>Movie</td>\n",
       "      <td>Jandino: Whatever it Takes</td>\n",
       "      <td>NaN</td>\n",
       "      <td>Jandino Asporaat</td>\n",
       "      <td>United Kingdom</td>\n",
       "      <td>September 9, 2016</td>\n",
       "      <td>2016</td>\n",
       "      <td>TV-MA</td>\n",
       "      <td>94 min</td>\n",
       "      <td>Stand-Up Comedy</td>\n",
       "      <td>Jandino Asporaat riffs on the challenges of ra...</td>\n",
       "    </tr>\n",
       "    <tr>\n",
       "      <th>2</th>\n",
       "      <td>70234439</td>\n",
       "      <td>TV Show</td>\n",
       "      <td>Transformers Prime</td>\n",
       "      <td>NaN</td>\n",
       "      <td>Peter Cullen, Sumalee Montano, Frank Welker, J...</td>\n",
       "      <td>United States</td>\n",
       "      <td>September 8, 2018</td>\n",
       "      <td>2013</td>\n",
       "      <td>TV-Y7-FV</td>\n",
       "      <td>1 Season</td>\n",
       "      <td>Kids' TV</td>\n",
       "      <td>With the help of three human allies, the Autob...</td>\n",
       "    </tr>\n",
       "    <tr>\n",
       "      <th>3</th>\n",
       "      <td>80058654</td>\n",
       "      <td>TV Show</td>\n",
       "      <td>Transformers: Robots in Disguise</td>\n",
       "      <td>NaN</td>\n",
       "      <td>Will Friedle, Darren Criss, Constance Zimmer, ...</td>\n",
       "      <td>United States</td>\n",
       "      <td>September 8, 2018</td>\n",
       "      <td>2016</td>\n",
       "      <td>TV-Y7</td>\n",
       "      <td>1 Season</td>\n",
       "      <td>Kids' TV</td>\n",
       "      <td>When a prison ship crash unleashes hundreds of...</td>\n",
       "    </tr>\n",
       "    <tr>\n",
       "      <th>4</th>\n",
       "      <td>80125979</td>\n",
       "      <td>Movie</td>\n",
       "      <td>#realityhigh</td>\n",
       "      <td>Fernando Lebrija</td>\n",
       "      <td>Nesta Cooper, Kate Walsh, John Michael Higgins...</td>\n",
       "      <td>United States</td>\n",
       "      <td>September 8, 2017</td>\n",
       "      <td>2017</td>\n",
       "      <td>TV-14</td>\n",
       "      <td>99 min</td>\n",
       "      <td>Comedies</td>\n",
       "      <td>When nerdy high schooler Dani finally attracts...</td>\n",
       "    </tr>\n",
       "  </tbody>\n",
       "</table>\n",
       "</div>"
      ],
      "text/plain": [
       "    show_id     type                                    title  \\\n",
       "0  81145628    Movie  Norm of the North: King Sized Adventure   \n",
       "1  80117401    Movie               Jandino: Whatever it Takes   \n",
       "2  70234439  TV Show                       Transformers Prime   \n",
       "3  80058654  TV Show         Transformers: Robots in Disguise   \n",
       "4  80125979    Movie                             #realityhigh   \n",
       "\n",
       "                   director  \\\n",
       "0  Richard Finn, Tim Maltby   \n",
       "1                       NaN   \n",
       "2                       NaN   \n",
       "3                       NaN   \n",
       "4          Fernando Lebrija   \n",
       "\n",
       "                                                cast  \\\n",
       "0  Alan Marriott, Andrew Toth, Brian Dobson, Cole...   \n",
       "1                                   Jandino Asporaat   \n",
       "2  Peter Cullen, Sumalee Montano, Frank Welker, J...   \n",
       "3  Will Friedle, Darren Criss, Constance Zimmer, ...   \n",
       "4  Nesta Cooper, Kate Walsh, John Michael Higgins...   \n",
       "\n",
       "                                    country         date_added  release_year  \\\n",
       "0  United States, India, South Korea, China  September 9, 2019          2019   \n",
       "1                            United Kingdom  September 9, 2016          2016   \n",
       "2                             United States  September 8, 2018          2013   \n",
       "3                             United States  September 8, 2018          2016   \n",
       "4                             United States  September 8, 2017          2017   \n",
       "\n",
       "     rating  duration                           listed_in  \\\n",
       "0     TV-PG    90 min  Children & Family Movies, Comedies   \n",
       "1     TV-MA    94 min                     Stand-Up Comedy   \n",
       "2  TV-Y7-FV  1 Season                            Kids' TV   \n",
       "3     TV-Y7  1 Season                            Kids' TV   \n",
       "4     TV-14    99 min                            Comedies   \n",
       "\n",
       "                                         description  \n",
       "0  Before planning an awesome wedding for his gra...  \n",
       "1  Jandino Asporaat riffs on the challenges of ra...  \n",
       "2  With the help of three human allies, the Autob...  \n",
       "3  When a prison ship crash unleashes hundreds of...  \n",
       "4  When nerdy high schooler Dani finally attracts...  "
      ]
     },
     "execution_count": 2,
     "metadata": {},
     "output_type": "execute_result"
    }
   ],
   "source": [
    "# Load the netflix data and check the first 5 recprds\n",
    "netflix_data = pd.read_csv(\"data/netflix_data.csv\")\n",
    "netflix_data.head(5)"
   ]
  },
  {
   "cell_type": "markdown",
   "metadata": {},
   "source": [
    "### 2. Data Cleaning"
   ]
  },
  {
   "cell_type": "markdown",
   "metadata": {},
   "source": [
    "#### a. Check no of columns and rows"
   ]
  },
  {
   "cell_type": "code",
   "execution_count": 3,
   "metadata": {},
   "outputs": [
    {
     "name": "stdout",
     "output_type": "stream",
     "text": [
      "Number of Rows:  6234\n",
      "Number of Columns:  12\n"
     ]
    }
   ],
   "source": [
    "# compute the number of rows in the dataset\n",
    "rows = len(netflix_data.axes[0])\n",
    " \n",
    "# compute the number of columns in the dataset\n",
    "cols = len(netflix_data.axes[1])\n",
    "\n",
    "print(\"Number of Rows: \", rows)\n",
    "print(\"Number of Columns: \", cols)"
   ]
  },
  {
   "cell_type": "markdown",
   "metadata": {},
   "source": [
    "#### b. Address missing values"
   ]
  },
  {
   "cell_type": "code",
   "execution_count": 4,
   "metadata": {},
   "outputs": [
    {
     "name": "stdout",
     "output_type": "stream",
     "text": [
      "show_id            0\n",
      "type               0\n",
      "title              0\n",
      "director        1969\n",
      "cast             570\n",
      "country          476\n",
      "date_added        11\n",
      "release_year       0\n",
      "rating            10\n",
      "duration           0\n",
      "listed_in          0\n",
      "description        0\n",
      "dtype: int64\n"
     ]
    }
   ],
   "source": [
    "# Check for missing values in each column\n",
    "print(netflix_data.isnull().sum())"
   ]
  },
  {
   "cell_type": "markdown",
   "metadata": {},
   "source": [
    "The \"director\", \"cast\", \"country\", \"date_added\" and the \"rating\" columns all have missing values. \n",
    "\n",
    "- director: 1969 missing values\n",
    "- cast: 570 missing values\n",
    "- country: 476 missing values\n",
    "- date_added: 11 missing values\n",
    "- rating: 10 missing values\n",
    "\n",
    "\n",
    "\n",
    "\n",
    "\n",
    "To address this, we might consider a few options. First, if the missing values are few, as in the case of \"date_added\" and \"rating\" columns, we can drop the missing values. The other option is to fill the missing values with a placeholder or a summary statistic such as the most common one. Lastly, we can impute with mean, mode or median for the numeric columns with missing values. More information on handling missing values can be found on the official pandas documentation: [https://pandas.pydata.org/docs/user_guide/missing_data.html]. Or on this useful article on medium [https://learner-cares.medium.com/handy-pandas-python-library-for-handling-missing-values-dc5f0d1ebf82]"
   ]
  },
  {
   "cell_type": "code",
   "execution_count": 5,
   "metadata": {},
   "outputs": [
    {
     "name": "stdout",
     "output_type": "stream",
     "text": [
      "show_id          int64\n",
      "type            object\n",
      "title           object\n",
      "director        object\n",
      "cast            object\n",
      "country         object\n",
      "date_added      object\n",
      "release_year     int64\n",
      "rating          object\n",
      "duration        object\n",
      "listed_in       object\n",
      "description     object\n",
      "dtype: object\n"
     ]
    }
   ],
   "source": [
    "# First we check the data type for each column\n",
    "data_types = netflix_data.dtypes\n",
    "print(data_types)"
   ]
  },
  {
   "cell_type": "code",
   "execution_count": 6,
   "metadata": {},
   "outputs": [],
   "source": [
    "# We will use a placeholder to fill in the missing values for director, cast and country woth unknown\n",
    "netflix_data['director'].fillna('Unknown', inplace=True)\n",
    "netflix_data['cast'].fillna('Unknown', inplace=True)\n",
    "netflix_data['country'].fillna('Unknown', inplace=True)"
   ]
  },
  {
   "cell_type": "code",
   "execution_count": 7,
   "metadata": {},
   "outputs": [],
   "source": [
    "# Fill in the missing values for date and rating columns with 'Not Available' and Unrated' respectively\n",
    "netflix_data['date_added'].fillna('Not Available', inplace=True)\n",
    "netflix_data['rating'].fillna('Unrated', inplace=True)"
   ]
  },
  {
   "cell_type": "code",
   "execution_count": 8,
   "metadata": {},
   "outputs": [],
   "source": [
    "# Convert 'date_added' to datetime format\n",
    "netflix_data['date_added'] = pd.to_datetime(netflix_data['date_added'], errors='coerce')"
   ]
  },
  {
   "cell_type": "code",
   "execution_count": 9,
   "metadata": {},
   "outputs": [
    {
     "data": {
      "text/plain": [
       "show_id          0\n",
       "type             0\n",
       "title            0\n",
       "director         0\n",
       "cast             0\n",
       "country          0\n",
       "date_added      11\n",
       "release_year     0\n",
       "rating           0\n",
       "duration         0\n",
       "listed_in        0\n",
       "description      0\n",
       "dtype: int64"
      ]
     },
     "execution_count": 9,
     "metadata": {},
     "output_type": "execute_result"
    }
   ],
   "source": [
    "# Confirm the missing values have been handled\n",
    "cleaned_netflix_data = netflix_data.isnull().sum()\n",
    "cleaned_netflix_data"
   ]
  },
  {
   "cell_type": "markdown",
   "metadata": {},
   "source": [
    "### 3. Data Exploration"
   ]
  },
  {
   "cell_type": "code",
   "execution_count": 16,
   "metadata": {
    "scrolled": false
   },
   "outputs": [
    {
     "name": "stdout",
     "output_type": "stream",
     "text": [
      "\n",
      "Counts of Types:\n",
      " Movie      4265\n",
      "TV Show    1969\n",
      "Name: type, dtype: int64\n"
     ]
    }
   ],
   "source": [
    "# Count unique values in 'type', 'rating', and 'listed_in' columns\n",
    "type_counts = netflix_data['type'].value_counts()\n",
    "print(\"\\nCounts of Types:\\n\", type_counts)"
   ]
  },
  {
   "cell_type": "markdown",
   "metadata": {},
   "source": [
    "There are 4265 movies and 1969 Tv shows in our dataset. Next, we check the top 10 genres."
   ]
  },
  {
   "cell_type": "code",
   "execution_count": 20,
   "metadata": {},
   "outputs": [
    {
     "name": "stdout",
     "output_type": "stream",
     "text": [
      "\n",
      "Top 10 Genres:\n",
      " International Movies      1927\n",
      "Dramas                    1623\n",
      "Comedies                  1113\n",
      "International TV Shows    1001\n",
      "Documentaries              668\n",
      "TV Dramas                  599\n",
      "Action & Adventure         597\n",
      "Independent Movies         552\n",
      "TV Comedies                436\n",
      "Thrillers                  392\n",
      "Name: listed_in, dtype: int64\n"
     ]
    }
   ],
   "source": [
    "# Count the top 10 genres in 'listed_in'\n",
    "genre_counts = netflix_data['listed_in'].str.split(', ').explode().value_counts().head(10)\n",
    "print(\"\\nTop 10 Genres:\\n\", genre_counts)"
   ]
  },
  {
   "cell_type": "markdown",
   "metadata": {},
   "source": [
    "International movies are the top most watched genres on Netflix, followed by Dramas and Comedies. Thrillers are the least watched genres on Netflix."
   ]
  },
  {
   "cell_type": "markdown",
   "metadata": {},
   "source": [
    "### 4. Data Visualization"
   ]
  },
  {
   "cell_type": "markdown",
   "metadata": {},
   "source": [
    "We will create visualizations to represent the following:\n",
    "- Most watched genres.\n",
    "- Ratings distribution."
   ]
  },
  {
   "cell_type": "markdown",
   "metadata": {},
   "source": [
    "#### Most Watched Genres"
   ]
  },
  {
   "cell_type": "code",
   "execution_count": 23,
   "metadata": {},
   "outputs": [
    {
     "data": {
      "image/png": "[encoded data removed]",
      "text/plain": [
       "<Figure size 864x432 with 1 Axes>"
      ]
     },
     "metadata": {
      "needs_background": "light"
     },
     "output_type": "display_data"
    }
   ],
   "source": [
    "# We first get the top 10 genres from the 'listed_in' column\n",
    "genre_counts = netflix_data['listed_in'].str.split(', ').explode().value_counts().head(10)\n",
    "\n",
    "# Plot the genres in a bar graph\n",
    "plt.figure(figsize=(12, 6))\n",
    "sns.barplot(x=genre_counts.values, y=genre_counts.index, palette='rocket')\n",
    "plt.title('Top 10 Most Watched Genres on Netflix')\n",
    "plt.xlabel('Number of Shows/Movies')\n",
    "plt.ylabel('Genre')\n",
    "plt.show()"
   ]
  },
  {
   "cell_type": "markdown",
   "metadata": {},
   "source": [
    "#### Rating Distribution"
   ]
  },
  {
   "cell_type": "code",
   "execution_count": 24,
   "metadata": {},
   "outputs": [
    {
     "data": {
      "image/png": "[encoded data removed]",
      "text/plain": [
       "<Figure size 720x432 with 1 Axes>"
      ]
     },
     "metadata": {
      "needs_background": "light"
     },
     "output_type": "display_data"
    }
   ],
   "source": [
    "# Plot the distribution by rating\n",
    "plt.figure(figsize=(10, 6))\n",
    "sns.histplot(netflix_data['rating'].dropna(), kde=False, color='skyblue', bins=10)\n",
    "plt.title('Ratings Distribution on Netflix')\n",
    "plt.xlabel('Rating')\n",
    "plt.ylabel('Frequency')\n",
    "plt.xticks(rotation=45)\n",
    "plt.show()"
   ]
  },
  {
   "cell_type": "markdown",
   "metadata": {},
   "source": [
    "TV-MA rating has the highest frequency followed by TV-14. This means that most of the movies and shows are intended for mature audiences."
   ]
  },
  {
   "cell_type": "code",
   "execution_count": null,
   "metadata": {},
   "outputs": [],
   "source": []
  }
 ],
 "metadata": {
  "kernelspec": {
   "display_name": "Python 3",
   "language": "python",
   "name": "python3"
  },
  "language_info": {
   "codemirror_mode": {
    "name": "ipython",
    "version": 3
   },
   "file_extension": ".py",
   "mimetype": "text/x-python",
   "name": "python",
   "nbconvert_exporter": "python",
   "pygments_lexer": "ipython3",
   "version": "3.8.5"
  }
 },
 "nbformat": 4,
 "nbformat_minor": 4
}
